{
 "cells": [
  {
   "cell_type": "code",
   "execution_count": 6,
   "metadata": {},
   "outputs": [],
   "source": [
    "#Question1\n",
    "import newmodule.py#given function is named as newmodule\n",
    "    \n",
    "b()\n",
    "b()\n",
    "b()\n",
    "a\n",
    "\n",
    "#explanation-By encapsulation\n",
    "    "
   ]
  },
  {
   "cell_type": "code",
   "execution_count": 8,
   "metadata": {},
   "outputs": [],
   "source": [
    "#Question2\n",
    "try:\n",
    "    fileLength('midterm.py') \n",
    "except: \n",
    "        print(358)\n",
    "\n",
    "try:\n",
    "    fileLength('idterm.py')\n",
    "except:\n",
    "    print('File idterm.py not found.')\n",
    "    "
   ]
  },
  {
   "cell_type": "code",
   "execution_count": null,
   "metadata": {},
   "outputs": [],
   "source": [
    "#Question3\n",
    "class Marsupial\n",
    "\n",
    " m = Marsupial()\n",
    " m.put_in_pouch('doll')\n",
    " m.put_in_pouch('firetruck')\n",
    " m.put_in_pouch('kitten')\n",
    " m.pouch_contents()\n",
    " a=[]\n",
    " print m\n",
    "    \n",
    "#question 3a\n",
    "class Kangaroo(Marsupial)\n",
    "  def _init_ (self,x,y)\n",
    "    self.x=x \n",
    "    self.y=y\n",
    "k=Kangaroo(0,0)\n",
    "print(k.x)\n",
    "print(k.y)\n",
    "print('I am a Kangaroo located at coordinates (0,0)')\n",
    "\n",
    "\n",
    "    \n"
   ]
  }
 ],
 "metadata": {
  "kernelspec": {
   "display_name": "Python 3",
   "language": "python",
   "name": "python3"
  },
  "language_info": {
   "codemirror_mode": {
    "name": "ipython",
    "version": 3
   },
   "file_extension": ".py",
   "mimetype": "text/x-python",
   "name": "python",
   "nbconvert_exporter": "python",
   "pygments_lexer": "ipython3",
   "version": "3.8.3"
  }
 },
 "nbformat": 4,
 "nbformat_minor": 4
}
